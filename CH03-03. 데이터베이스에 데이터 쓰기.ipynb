{
 "cells": [
  {
   "cell_type": "markdown",
   "metadata": {},
   "source": [
    "# [ 3-3. 데이터베이스로부터 데이터 쓰기 ]"
   ]
  },
  {
   "cell_type": "markdown",
   "metadata": {},
   "source": [
    "## 1. cursor 객체 속성 및 메서드\n",
    "### 1-1. cursor 객체 속성\n",
    "\n",
    "* description : 쿼리 결과의 컬럼에 대한 정보를 포함하는 튜플의 튜플입니다. 각 내부 튜플은 컬럼명, 유형 코드, 표시 길이, 내부 길이, 정밀도, 스케일, null 여부를 포함합니다.\n",
    "\n",
    "* rowcount : 마지막으로 실행된 execute() 또는 executemany() 호출에 의해 영향을 받은 행의 수입니다. INSERT 또는 UPDATE 등에 의해 영향을 받은 데이터베이스의 행의 수를 의미합니다.\n",
    "\n",
    "* lastrowid : 마지막으로 INSERT 연산을 통해 생성된 자동 증가 필드(auto-increment field)의 ID를 반환합니다. INSERT 쿼리가 없거나 테이블에 자동 증가 필드가 없는 경우 None을 반환합니다."
   ]
  },
  {
   "cell_type": "code",
   "execution_count": 9,
   "metadata": {},
   "outputs": [
    {
     "name": "stdout",
     "output_type": "stream",
     "text": [
      "description : [('id', 8, None, None, None, None, 0, 49699, 63), ('account_id', 254, None, None, None, None, 0, 4097, 255), ('dw_date', 10, None, None, None, None, 0, 4225, 63), ('category', 254, None, None, None, None, 0, 4097, 255), ('client', 254, None, None, None, None, 0, 4097, 255), ('deposit', 8, None, None, None, None, 0, 32801, 63), ('withdrawal', 8, None, None, None, None, 0, 32801, 63), ('description', 253, None, None, None, None, 1, 0, 255), ('created_at', 12, None, None, None, None, 0, 129, 63), ('deleted_at', 12, None, None, None, None, 1, 128, 63)]\n",
      "rowcount    : 0\n",
      "lastrowid   : 0\n"
     ]
    }
   ],
   "source": [
    "from connector import Connector\n",
    "\n",
    "with Connector() as conn:\n",
    "    query = \"SELECT * FROM cashflow_tbl WHERE deposit > 0;\"\n",
    "    conn.cursor.execute(query)\n",
    "    print(f\"description : {conn.cursor.description}\")\n",
    "    print(f\"rowcount    : {conn.cursor.rowcount}\")\n",
    "    print(f\"lastrowid   : {conn.cursor.lastrowid}\")\n",
    "    result = conn.cursor.fetchall()"
   ]
  },
  {
   "cell_type": "markdown",
   "metadata": {},
   "source": [
    "### 1-2. cursor 객체 메서드\n",
    "* execute(query, params=None) : SQL 쿼리를 실행합니다. params는 쿼리에 바인딩할 파라미터를 포함할 수 있으며, 튜플, 리스트 또는 딕셔너리일 수 있습니다.\n",
    "\n",
    "* executemany(query, seq_of_params) : 동일한 쿼리를 파라미터의 시퀀스에 대해 반복적으로 실행합니다. 대량 데이터 삽입 작업에 효과적입니다.\n",
    "\n",
    "* fetchone() : 쿼리 결과로부터 다음 행을 반환합니다. 결과가 없으면 None을 반환합니다.\n",
    "\n",
    "* fetchall() : 쿼리 결과의 모든 행을 한번에 가져옵니다. 모든 결과를 메모리에 로드하므로, 큰 결과 집합에서는 주의가 필요합니다.\n",
    "\n",
    "* fetchmany(size=None) : 쿼리 결과에서 지정된 수(size)의 행을 반환합니다. size가 지정되지 않으면 1의 값이 사용됩니다."
   ]
  },
  {
   "cell_type": "markdown",
   "metadata": {},
   "source": [
    "### 1-3. cursor 객체의 fetchone() 메서드, fetchall() 메서드 사용하기\n",
    "#### 1-3-1. fetchall() 메서드"
   ]
  },
  {
   "cell_type": "code",
   "execution_count": 17,
   "metadata": {},
   "outputs": [
    {
     "name": "stdout",
     "output_type": "stream",
     "text": [
      "[{'id': 1, 'account_id': 'hana1234', 'bank_name': '하나은행', 'account_number': '12345-01-1234', 'account_holder': 'FC호텔', 'account_type': '보통예금', 'branch_name': '여의도점', 'account_alias': '매출계좌', 'description': '매출대금 입금계좌', 'opening_date': datetime.date(2024, 1, 2), 'closing_date': None, 'created_at': datetime.datetime(2024, 4, 10, 23, 33, 35), 'deleted_at': None}, {'id': 2, 'account_id': 'hana4321', 'bank_name': '하나은행', 'account_number': '12345-01-4321', 'account_holder': 'FC호텔', 'account_type': '보통예금', 'branch_name': '여의도점', 'account_alias': '운영계좌', 'description': '운영비용 지출 계좌', 'opening_date': datetime.date(2024, 1, 2), 'closing_date': None, 'created_at': datetime.datetime(2024, 4, 10, 23, 33, 35), 'deleted_at': None}, {'id': 3, 'account_id': 'shhn4567', 'bank_name': '신한은행', 'account_number': '54321-21-4567', 'account_holder': 'FC호텔', 'account_type': '정기예금', 'branch_name': '여의도점', 'account_alias': '정기예금', 'description': '10억원 1년 정기예금', 'opening_date': datetime.date(2024, 1, 2), 'closing_date': None, 'created_at': datetime.datetime(2024, 4, 10, 23, 33, 35), 'deleted_at': None}]\n"
     ]
    }
   ],
   "source": [
    "with Connector() as conn:\n",
    "    query = \"SELECT * FROM accounts_info;\"\n",
    "    conn.cursor.execute(query)\n",
    "    result = conn.cursor.fetchall()\n",
    "    print(result)"
   ]
  },
  {
   "cell_type": "markdown",
   "metadata": {},
   "source": [
    "#### 1-3-2. fetchone() 메서드"
   ]
  },
  {
   "cell_type": "code",
   "execution_count": 20,
   "metadata": {},
   "outputs": [
    {
     "name": "stdout",
     "output_type": "stream",
     "text": [
      "[{'id': 1, 'account_id': 'hana1234', 'bank_name': '하나은행', 'account_number': '12345-01-1234', 'account_holder': 'FC호텔', 'account_type': '보통예금', 'branch_name': '여의도점', 'account_alias': '매출계좌', 'description': '매출대금 입금계좌', 'opening_date': datetime.date(2024, 1, 2), 'closing_date': None, 'created_at': datetime.datetime(2024, 4, 10, 23, 33, 35), 'deleted_at': None}, {'id': 2, 'account_id': 'hana4321', 'bank_name': '하나은행', 'account_number': '12345-01-4321', 'account_holder': 'FC호텔', 'account_type': '보통예금', 'branch_name': '여의도점', 'account_alias': '운영계좌', 'description': '운영비용 지출 계좌', 'opening_date': datetime.date(2024, 1, 2), 'closing_date': None, 'created_at': datetime.datetime(2024, 4, 10, 23, 33, 35), 'deleted_at': None}, {'id': 3, 'account_id': 'shhn4567', 'bank_name': '신한은행', 'account_number': '54321-21-4567', 'account_holder': 'FC호텔', 'account_type': '정기예금', 'branch_name': '여의도점', 'account_alias': '정기예금', 'description': '10억원 1년 정기예금', 'opening_date': datetime.date(2024, 1, 2), 'closing_date': None, 'created_at': datetime.datetime(2024, 4, 10, 23, 33, 35), 'deleted_at': None}]\n"
     ]
    }
   ],
   "source": [
    "with Connector() as conn:\n",
    "    query = \"SELECT * FROM accounts_info;\"\n",
    "    conn.cursor.execute(query)\n",
    "\n",
    "    result = []\n",
    "    row = conn.cursor.fetchone()\n",
    "    while row is not None:\n",
    "        result.append(row)\n",
    "        row = conn.cursor.fetchone()\n",
    "    print(result)"
   ]
  },
  {
   "cell_type": "markdown",
   "metadata": {},
   "source": [
    "## 2. execute() 메서드를 이용하여 INSERT 실행하기"
   ]
  },
  {
   "cell_type": "markdown",
   "metadata": {},
   "source": [
    "### 2-1. INSERT 쿼리문 전체를 Execute 하기"
   ]
  },
  {
   "cell_type": "code",
   "execution_count": 21,
   "metadata": {},
   "outputs": [],
   "source": [
    "with Connector() as conn:\n",
    "    query = \"\"\"\n",
    "        INSERT INTO cashflow_tbl (\n",
    "            account_id, dw_date, category, client, \n",
    "            deposit, withdrawal, description\n",
    "        )\t\t\t\t\t\t\n",
    "        VALUES (\n",
    "\t        'shhn4567', '2024-02-02', '이자수입', '신한은행', \n",
    "            4246575, 0, '정기예금 이자'\n",
    "        );\t\t\t\t\t\n",
    "    \"\"\"\n",
    "    conn.cursor.execute(query) # SQL 쿼리 실행\n",
    "    conn.connection.commit() # 트랜잭션 내에서 실행된 모든 변경사항을 데이터베이스에 확정함."
   ]
  },
  {
   "cell_type": "code",
   "execution_count": 23,
   "metadata": {},
   "outputs": [
    {
     "name": "stdout",
     "output_type": "stream",
     "text": [
      "[{'id': 113, 'account_id': 'shhn4567', 'dw_date': datetime.date(2024, 2, 2), 'category': '이자수입', 'client': '신한은행', 'deposit': 4246575, 'withdrawal': 0, 'description': '정기예금 이자', 'created_at': datetime.datetime(2024, 4, 13, 18, 40, 37), 'deleted_at': None}]\n"
     ]
    }
   ],
   "source": [
    "with Connector() as conn:\n",
    "    query = \"SELECT * FROM cashflow_tbl WHERE dw_date='2024-02-02';\"\n",
    "    conn.cursor.execute(query)\n",
    "    result = conn.cursor.fetchall()\n",
    "    print(result)"
   ]
  },
  {
   "cell_type": "markdown",
   "metadata": {},
   "source": [
    "### 2-2. 플레이스 홀더를 사용하여 쿼리문 Execute 하기\n",
    "* 쿼리문에 '%s'(플레이스 홀더)를 사용해서 SQL 쿼리문에 변수를 안전하게 바인딩할 수 있습니다.\n",
    "\n",
    "* 쿼리 작성 : 쿼리문에서 변수가 들어갈 자리에 '%s'를 사용합니다. '%s'는 쿼리에 직접 값을 삽입하지 않고, 대신 변수를 받는 플레이스 홀더 역할을 합니다.\n",
    "\n",
    "* 데이터 바인딩 : 쿼리 실행 시 '%s' 위치에 들어갈 변수를 튜플 또는 리스트로 제공합니다. 이 데이터는 쿼리를 실행할 때 적절히 삽입되어 실행됩니다.\n",
    "\n",
    "* 쿼리 실행 : execute() 또는 executemany() 메서드의 첫번째 인자로 쿼리문이, 두번째 인자로 데이터가 들어갑니다."
   ]
  },
  {
   "cell_type": "code",
   "execution_count": 22,
   "metadata": {},
   "outputs": [],
   "source": [
    "with Connector() as conn:\n",
    "    query = \"\"\"\n",
    "        INSERT INTO cashflow_tbl (\n",
    "            account_id, dw_date, category, client, \n",
    "            deposit, withdrawal, description\n",
    "        )\t\t\t\t\t\t\n",
    "        VALUES (%s, %s, %s, %s, %s, %s, %s);\t\t\t\t\n",
    "    \"\"\"\n",
    "    values = ['hana1234', '2024-02-01', '객실수입', '호텔스닷컴', \n",
    "              33000000, 0, '객실 매출']\n",
    "    conn.cursor.execute(query, values) # SQL 쿼리 실행\n",
    "    conn.connection.commit() # 트랜잭션 내에서 실행된 모든 변경사항을 데이터베이스에 확정함."
   ]
  },
  {
   "cell_type": "code",
   "execution_count": 24,
   "metadata": {},
   "outputs": [
    {
     "name": "stdout",
     "output_type": "stream",
     "text": [
      "[{'id': 114, 'account_id': 'hana1234', 'dw_date': datetime.date(2024, 2, 1), 'category': '객실수입', 'client': '호텔스닷컴', 'deposit': 33000000, 'withdrawal': 0, 'description': '객실 매출', 'created_at': datetime.datetime(2024, 4, 13, 18, 47, 25), 'deleted_at': None}]\n"
     ]
    }
   ],
   "source": [
    "with Connector() as conn:\n",
    "    query = \"SELECT * FROM cashflow_tbl WHERE dw_date='2024-02-01';\"\n",
    "    conn.cursor.execute(query)\n",
    "    result = conn.cursor.fetchall()\n",
    "    print(result)"
   ]
  },
  {
   "cell_type": "markdown",
   "metadata": {},
   "source": [
    "### 2-3. executemany() 메서드 사용하기"
   ]
  },
  {
   "cell_type": "code",
   "execution_count": 25,
   "metadata": {},
   "outputs": [],
   "source": [
    "values = [\n",
    "    ('hana1234', '2024-02-02', '객실수입', '호텔스넷', 25000000, 0, '객실 매출'),\n",
    "    ('hana1234', '2024-02-03', '객실수입', '호텔스닷컴', 30000000, 0, '객실 매출'),\n",
    "    ('hana1234', '2024-02-04', '객실수입', '호텔스넷', 25000000, 0, '객실 매출'),\n",
    "    ('hana1234', '2024-02-05', '객실수입', '호텔스닷컴', 31000000, 0, '객실 매출'),\n",
    "    ('hana1234', '2024-02-06', '객실수입', '호텔스넷', 25000000, 0, '객실 매출'),\n",
    "    ('hana1234', '2024-02-07', '객실수입', '호텔스닷컴', 31000000, 0, '객실 매출'),\n",
    "    ('hana1234', '2024-02-08', '객실수입', '호텔스넷', 27000000, 0, '객실 매출'),\n",
    "    ('hana1234', '2024-02-09', '객실수입', '호텔스닷컴', 25000000, 0, '객실 매출'),\n",
    "    ('hana1234', '2024-02-10', '객실수입', '호텔스넷', 32000000, 0, '객실 매출'),\n",
    "    ('hana1234', '2024-02-11', '객실수입', '호텔스닷컴', 35000000, 0, '객실 매출'),\n",
    "    ('hana1234', '2024-02-12', '객실수입', '호텔스넷', 33000000, 0, '객실 매출'),\n",
    "    ('hana1234', '2024-02-13', '객실수입', '호텔스닷컴', 24000000, 0, '객실 매출'),\n",
    "    ('hana1234', '2024-02-14', '객실수입', '호텔스넷', 22000000, 0, '객실 매출'),\n",
    "    ('hana1234', '2024-02-15', '객실수입', '호텔스닷컴', 25000000, 0, '객실 매출'),\n",
    "    ('hana1234', '2024-02-16', '객실수입', '호텔스넷', 28000000, 0, '객실 매출'),\n",
    "    ('hana1234', '2024-02-17', '객실수입', '호텔스닷컴', 25000000, 0, '객실 매출'),\n",
    "    ('hana1234', '2024-02-18', '객실수입', '호텔스넷', 27000000, 0, '객실 매출'),\n",
    "    ('hana1234', '2024-02-19', '객실수입', '호텔스닷컴', 29000000, 0, '객실 매출'),\n",
    "    ('hana1234', '2024-02-20', '객실수입', '호텔스넷', 28000000, 0, '객실 매출'),\n",
    "    ('hana1234', '2024-02-21', '객실수입', '호텔스닷컴', 31000000, 0, '객실 매출'),\n",
    "    ('hana1234', '2024-02-22', '객실수입', '호텔스넷', 25000000, 0, '객실 매출'),\n",
    "    ('hana1234', '2024-02-23', '객실수입', '호텔스닷컴', 30000000, 0, '객실 매출'),\n",
    "    ('hana1234', '2024-02-24', '객실수입', '호텔스넷', 31000000, 0, '객실 매출'),\n",
    "    ('hana1234', '2024-02-25', '객실수입', '호텔스닷컴', 25000000, 0, '객실 매출'),\n",
    "    ('hana1234', '2024-02-26', '객실수입', '호텔스넷', 30000000, 0, '객실 매출'),\n",
    "    ('hana1234', '2024-02-27', '객실수입', '호텔스닷컴', 32000000, 0, '객실 매출'),\n",
    "    ('hana1234', '2024-02-28', '객실수입', '호텔스넷', 27000000, 0, '객실 매출'),\n",
    "    ('hana1234', '2024-02-29', '객실수입', '호텔스닷컴', 32000000, 0, '객실 매출'),\n",
    "    ('hana4321', '2024-02-21', '급여', '종업원급여', 0, 170000000, '종업원급여'),\n",
    "    ('hana4321', '2024-02-07', '판매수수료', '호텔스넷', 0, 3750000, '객실판매수수료'),\n",
    "    ('hana4321', '2024-02-13', '판매수수료', '호텔스넷', 0, 4600000, '객실판매수수료'),\n",
    "    ('hana4321', '2024-02-19', '판매수수료', '호텔스넷', 0, 3850000, '객실판매수수료'),\n",
    "    ('hana4321', '2024-02-25', '판매수수료', '호텔스넷', 0, 4200000, '객실판매수수료'),\n",
    "    ('hana4321', '2024-02-29', '판매수수료', '호텔스넷', 0, 2850000, '객실판매수수료'),\n",
    "    ('hana4321', '2024-02-07', '판매수수료', '호텔스닷컴', 0, 4700000, '객실판매수수료'),\n",
    "    ('hana4321', '2024-02-13', '판매수수료', '호텔스닷컴', 0, 4550000, '객실판매수수료'),\n",
    "    ('hana4321', '2024-02-19', '판매수수료', '호텔스닷컴', 0, 3700000, '객실판매수수료'),\n",
    "    ('hana4321', '2024-02-25', '판매수수료', '호텔스닷컴', 0, 4500000, '객실판매수수료'),\n",
    "    ('hana4321', '2024-02-29', '판매수수료', '호텔스닷컴', 0, 4450000, '객실판매수수료'),\n",
    "    ('hana4321', '2024-02-03', '고객용품비', 'ABC용품사', 0, 20000000, '고객용품비 지출'),\n",
    "    ('hana4321', '2024-02-10', '고객용품비', 'ABC용품사', 0, 15000000, '고객용품비 지출'),\n",
    "    ('hana4321', '2024-02-17', '고객용품비', 'ABC용품사', 0, 20000000, '고객용품비 지출'),\n",
    "    ('hana4321', '2024-02-24', '고객용품비', 'ABC용품사', 0, 15000000, '고객용품비 지출'),\n",
    "    ('hana4321', '2024-02-29', '고객용품비', 'ABC용품사', 0, 15000000, '고객용품비 지출'),\n",
    "    ('hana4321', '2024-02-19', '수도광열비', '수도광열비', 0, 41000000, '수도광열비 등'),\n",
    "    ('hana4321', '2024-02-24', '노무용역비', '노무용역사', 0, 170000000, '노무용역비'),\n",
    "    ('hana4321', '2024-02-10', '세금과공과', '세금과공과', 0, 85000000, '세금과공과'),\n",
    "    ('hana4321', '2024-02-03', '기타영업비용', 'A사', 0, 15000000, '영업비용A'),\n",
    "    ('hana4321', '2024-02-10', '기타영업비용', 'B사', 0, 20000000, '영업비용B'),\n",
    "    ('hana4321', '2024-02-17', '기타영업비용', 'A사', 0, 18000000, '영업비용C'),\n",
    "    ('hana4321', '2024-02-24', '기타영업비용', 'C사', 0, 15000000, '영업비용D'),\n",
    "    ('hana4321', '2024-02-29', '기타영업비용', 'C사', 0, 20000000, '영업비용E')\n",
    "]"
   ]
  },
  {
   "cell_type": "code",
   "execution_count": 26,
   "metadata": {},
   "outputs": [],
   "source": [
    "with Connector() as conn:\n",
    "    query = \"\"\"\n",
    "        INSERT INTO cashflow_tbl (\n",
    "            account_id, dw_date, category, client, \n",
    "            deposit, withdrawal, description\n",
    "        )\t\t\t\t\t\t\n",
    "        VALUES (%s, %s, %s, %s, %s, %s, %s);\t\t\t\t\n",
    "    \"\"\"\n",
    "    conn.cursor.executemany(query, values)\n",
    "    conn.connection.commit()"
   ]
  },
  {
   "cell_type": "code",
   "execution_count": 27,
   "metadata": {},
   "outputs": [
    {
     "name": "stdout",
     "output_type": "stream",
     "text": [
      "[{'id': 113, 'account_id': 'shhn4567', 'dw_date': datetime.date(2024, 2, 2), 'category': '이자수입', 'client': '신한은행', 'deposit': 4246575, 'withdrawal': 0, 'description': '정기예금 이자', 'created_at': datetime.datetime(2024, 4, 13, 18, 40, 37), 'deleted_at': None}, {'id': 114, 'account_id': 'hana1234', 'dw_date': datetime.date(2024, 2, 1), 'category': '객실수입', 'client': '호텔스닷컴', 'deposit': 33000000, 'withdrawal': 0, 'description': '객실 매출', 'created_at': datetime.datetime(2024, 4, 13, 18, 47, 25), 'deleted_at': None}, {'id': 115, 'account_id': 'hana1234', 'dw_date': datetime.date(2024, 2, 2), 'category': '객실수입', 'client': '호텔스넷', 'deposit': 25000000, 'withdrawal': 0, 'description': '객실 매출', 'created_at': datetime.datetime(2024, 4, 13, 18, 53, 2), 'deleted_at': None}, {'id': 116, 'account_id': 'hana1234', 'dw_date': datetime.date(2024, 2, 3), 'category': '객실수입', 'client': '호텔스닷컴', 'deposit': 30000000, 'withdrawal': 0, 'description': '객실 매출', 'created_at': datetime.datetime(2024, 4, 13, 18, 53, 2), 'deleted_at': None}, {'id': 117, 'account_id': 'hana1234', 'dw_date': datetime.date(2024, 2, 4), 'category': '객실수입', 'client': '호텔스넷', 'deposit': 25000000, 'withdrawal': 0, 'description': '객실 매출', 'created_at': datetime.datetime(2024, 4, 13, 18, 53, 2), 'deleted_at': None}, {'id': 118, 'account_id': 'hana1234', 'dw_date': datetime.date(2024, 2, 5), 'category': '객실수입', 'client': '호텔스닷컴', 'deposit': 31000000, 'withdrawal': 0, 'description': '객실 매출', 'created_at': datetime.datetime(2024, 4, 13, 18, 53, 2), 'deleted_at': None}, {'id': 119, 'account_id': 'hana1234', 'dw_date': datetime.date(2024, 2, 6), 'category': '객실수입', 'client': '호텔스넷', 'deposit': 25000000, 'withdrawal': 0, 'description': '객실 매출', 'created_at': datetime.datetime(2024, 4, 13, 18, 53, 2), 'deleted_at': None}, {'id': 120, 'account_id': 'hana1234', 'dw_date': datetime.date(2024, 2, 7), 'category': '객실수입', 'client': '호텔스닷컴', 'deposit': 31000000, 'withdrawal': 0, 'description': '객실 매출', 'created_at': datetime.datetime(2024, 4, 13, 18, 53, 2), 'deleted_at': None}, {'id': 121, 'account_id': 'hana1234', 'dw_date': datetime.date(2024, 2, 8), 'category': '객실수입', 'client': '호텔스넷', 'deposit': 27000000, 'withdrawal': 0, 'description': '객실 매출', 'created_at': datetime.datetime(2024, 4, 13, 18, 53, 2), 'deleted_at': None}, {'id': 122, 'account_id': 'hana1234', 'dw_date': datetime.date(2024, 2, 9), 'category': '객실수입', 'client': '호텔스닷컴', 'deposit': 25000000, 'withdrawal': 0, 'description': '객실 매출', 'created_at': datetime.datetime(2024, 4, 13, 18, 53, 2), 'deleted_at': None}, {'id': 123, 'account_id': 'hana1234', 'dw_date': datetime.date(2024, 2, 10), 'category': '객실수입', 'client': '호텔스넷', 'deposit': 32000000, 'withdrawal': 0, 'description': '객실 매출', 'created_at': datetime.datetime(2024, 4, 13, 18, 53, 2), 'deleted_at': None}, {'id': 124, 'account_id': 'hana1234', 'dw_date': datetime.date(2024, 2, 11), 'category': '객실수입', 'client': '호텔스닷컴', 'deposit': 35000000, 'withdrawal': 0, 'description': '객실 매출', 'created_at': datetime.datetime(2024, 4, 13, 18, 53, 2), 'deleted_at': None}, {'id': 125, 'account_id': 'hana1234', 'dw_date': datetime.date(2024, 2, 12), 'category': '객실수입', 'client': '호텔스넷', 'deposit': 33000000, 'withdrawal': 0, 'description': '객실 매출', 'created_at': datetime.datetime(2024, 4, 13, 18, 53, 2), 'deleted_at': None}, {'id': 126, 'account_id': 'hana1234', 'dw_date': datetime.date(2024, 2, 13), 'category': '객실수입', 'client': '호텔스닷컴', 'deposit': 24000000, 'withdrawal': 0, 'description': '객실 매출', 'created_at': datetime.datetime(2024, 4, 13, 18, 53, 2), 'deleted_at': None}, {'id': 127, 'account_id': 'hana1234', 'dw_date': datetime.date(2024, 2, 14), 'category': '객실수입', 'client': '호텔스넷', 'deposit': 22000000, 'withdrawal': 0, 'description': '객실 매출', 'created_at': datetime.datetime(2024, 4, 13, 18, 53, 2), 'deleted_at': None}, {'id': 128, 'account_id': 'hana1234', 'dw_date': datetime.date(2024, 2, 15), 'category': '객실수입', 'client': '호텔스닷컴', 'deposit': 25000000, 'withdrawal': 0, 'description': '객실 매출', 'created_at': datetime.datetime(2024, 4, 13, 18, 53, 2), 'deleted_at': None}, {'id': 129, 'account_id': 'hana1234', 'dw_date': datetime.date(2024, 2, 16), 'category': '객실수입', 'client': '호텔스넷', 'deposit': 28000000, 'withdrawal': 0, 'description': '객실 매출', 'created_at': datetime.datetime(2024, 4, 13, 18, 53, 2), 'deleted_at': None}, {'id': 130, 'account_id': 'hana1234', 'dw_date': datetime.date(2024, 2, 17), 'category': '객실수입', 'client': '호텔스닷컴', 'deposit': 25000000, 'withdrawal': 0, 'description': '객실 매출', 'created_at': datetime.datetime(2024, 4, 13, 18, 53, 2), 'deleted_at': None}, {'id': 131, 'account_id': 'hana1234', 'dw_date': datetime.date(2024, 2, 18), 'category': '객실수입', 'client': '호텔스넷', 'deposit': 27000000, 'withdrawal': 0, 'description': '객실 매출', 'created_at': datetime.datetime(2024, 4, 13, 18, 53, 2), 'deleted_at': None}, {'id': 132, 'account_id': 'hana1234', 'dw_date': datetime.date(2024, 2, 19), 'category': '객실수입', 'client': '호텔스닷컴', 'deposit': 29000000, 'withdrawal': 0, 'description': '객실 매출', 'created_at': datetime.datetime(2024, 4, 13, 18, 53, 2), 'deleted_at': None}, {'id': 133, 'account_id': 'hana1234', 'dw_date': datetime.date(2024, 2, 20), 'category': '객실수입', 'client': '호텔스넷', 'deposit': 28000000, 'withdrawal': 0, 'description': '객실 매출', 'created_at': datetime.datetime(2024, 4, 13, 18, 53, 2), 'deleted_at': None}, {'id': 134, 'account_id': 'hana1234', 'dw_date': datetime.date(2024, 2, 21), 'category': '객실수입', 'client': '호텔스닷컴', 'deposit': 31000000, 'withdrawal': 0, 'description': '객실 매출', 'created_at': datetime.datetime(2024, 4, 13, 18, 53, 2), 'deleted_at': None}, {'id': 135, 'account_id': 'hana1234', 'dw_date': datetime.date(2024, 2, 22), 'category': '객실수입', 'client': '호텔스넷', 'deposit': 25000000, 'withdrawal': 0, 'description': '객실 매출', 'created_at': datetime.datetime(2024, 4, 13, 18, 53, 2), 'deleted_at': None}, {'id': 136, 'account_id': 'hana1234', 'dw_date': datetime.date(2024, 2, 23), 'category': '객실수입', 'client': '호텔스닷컴', 'deposit': 30000000, 'withdrawal': 0, 'description': '객실 매출', 'created_at': datetime.datetime(2024, 4, 13, 18, 53, 2), 'deleted_at': None}, {'id': 137, 'account_id': 'hana1234', 'dw_date': datetime.date(2024, 2, 24), 'category': '객실수입', 'client': '호텔스넷', 'deposit': 31000000, 'withdrawal': 0, 'description': '객실 매출', 'created_at': datetime.datetime(2024, 4, 13, 18, 53, 2), 'deleted_at': None}, {'id': 138, 'account_id': 'hana1234', 'dw_date': datetime.date(2024, 2, 25), 'category': '객실수입', 'client': '호텔스닷컴', 'deposit': 25000000, 'withdrawal': 0, 'description': '객실 매출', 'created_at': datetime.datetime(2024, 4, 13, 18, 53, 2), 'deleted_at': None}, {'id': 139, 'account_id': 'hana1234', 'dw_date': datetime.date(2024, 2, 26), 'category': '객실수입', 'client': '호텔스넷', 'deposit': 30000000, 'withdrawal': 0, 'description': '객실 매출', 'created_at': datetime.datetime(2024, 4, 13, 18, 53, 2), 'deleted_at': None}, {'id': 140, 'account_id': 'hana1234', 'dw_date': datetime.date(2024, 2, 27), 'category': '객실수입', 'client': '호텔스닷컴', 'deposit': 32000000, 'withdrawal': 0, 'description': '객실 매출', 'created_at': datetime.datetime(2024, 4, 13, 18, 53, 2), 'deleted_at': None}, {'id': 141, 'account_id': 'hana1234', 'dw_date': datetime.date(2024, 2, 28), 'category': '객실수입', 'client': '호텔스넷', 'deposit': 27000000, 'withdrawal': 0, 'description': '객실 매출', 'created_at': datetime.datetime(2024, 4, 13, 18, 53, 2), 'deleted_at': None}, {'id': 142, 'account_id': 'hana1234', 'dw_date': datetime.date(2024, 2, 29), 'category': '객실수입', 'client': '호텔스닷컴', 'deposit': 32000000, 'withdrawal': 0, 'description': '객실 매출', 'created_at': datetime.datetime(2024, 4, 13, 18, 53, 2), 'deleted_at': None}, {'id': 143, 'account_id': 'hana4321', 'dw_date': datetime.date(2024, 2, 21), 'category': '급여', 'client': '종업원급여', 'deposit': 0, 'withdrawal': 170000000, 'description': '종업원급여', 'created_at': datetime.datetime(2024, 4, 13, 18, 53, 2), 'deleted_at': None}, {'id': 144, 'account_id': 'hana4321', 'dw_date': datetime.date(2024, 2, 7), 'category': '판매수수료', 'client': '호텔스넷', 'deposit': 0, 'withdrawal': 3750000, 'description': '객실판매수수료', 'created_at': datetime.datetime(2024, 4, 13, 18, 53, 2), 'deleted_at': None}, {'id': 145, 'account_id': 'hana4321', 'dw_date': datetime.date(2024, 2, 13), 'category': '판매수수료', 'client': '호텔스넷', 'deposit': 0, 'withdrawal': 4600000, 'description': '객실판매수수료', 'created_at': datetime.datetime(2024, 4, 13, 18, 53, 2), 'deleted_at': None}, {'id': 146, 'account_id': 'hana4321', 'dw_date': datetime.date(2024, 2, 19), 'category': '판매수수료', 'client': '호텔스넷', 'deposit': 0, 'withdrawal': 3850000, 'description': '객실판매수수료', 'created_at': datetime.datetime(2024, 4, 13, 18, 53, 2), 'deleted_at': None}, {'id': 147, 'account_id': 'hana4321', 'dw_date': datetime.date(2024, 2, 25), 'category': '판매수수료', 'client': '호텔스넷', 'deposit': 0, 'withdrawal': 4200000, 'description': '객실판매수수료', 'created_at': datetime.datetime(2024, 4, 13, 18, 53, 2), 'deleted_at': None}, {'id': 148, 'account_id': 'hana4321', 'dw_date': datetime.date(2024, 2, 29), 'category': '판매수수료', 'client': '호텔스넷', 'deposit': 0, 'withdrawal': 2850000, 'description': '객실판매수수료', 'created_at': datetime.datetime(2024, 4, 13, 18, 53, 2), 'deleted_at': None}, {'id': 149, 'account_id': 'hana4321', 'dw_date': datetime.date(2024, 2, 7), 'category': '판매수수료', 'client': '호텔스닷컴', 'deposit': 0, 'withdrawal': 4700000, 'description': '객실판매수수료', 'created_at': datetime.datetime(2024, 4, 13, 18, 53, 2), 'deleted_at': None}, {'id': 150, 'account_id': 'hana4321', 'dw_date': datetime.date(2024, 2, 13), 'category': '판매수수료', 'client': '호텔스닷컴', 'deposit': 0, 'withdrawal': 4550000, 'description': '객실판매수수료', 'created_at': datetime.datetime(2024, 4, 13, 18, 53, 2), 'deleted_at': None}, {'id': 151, 'account_id': 'hana4321', 'dw_date': datetime.date(2024, 2, 19), 'category': '판매수수료', 'client': '호텔스닷컴', 'deposit': 0, 'withdrawal': 3700000, 'description': '객실판매수수료', 'created_at': datetime.datetime(2024, 4, 13, 18, 53, 2), 'deleted_at': None}, {'id': 152, 'account_id': 'hana4321', 'dw_date': datetime.date(2024, 2, 25), 'category': '판매수수료', 'client': '호텔스닷컴', 'deposit': 0, 'withdrawal': 4500000, 'description': '객실판매수수료', 'created_at': datetime.datetime(2024, 4, 13, 18, 53, 2), 'deleted_at': None}, {'id': 153, 'account_id': 'hana4321', 'dw_date': datetime.date(2024, 2, 29), 'category': '판매수수료', 'client': '호텔스닷컴', 'deposit': 0, 'withdrawal': 4450000, 'description': '객실판매수수료', 'created_at': datetime.datetime(2024, 4, 13, 18, 53, 2), 'deleted_at': None}, {'id': 154, 'account_id': 'hana4321', 'dw_date': datetime.date(2024, 2, 3), 'category': '고객용품비', 'client': 'ABC용품사', 'deposit': 0, 'withdrawal': 20000000, 'description': '고객용품비 지출', 'created_at': datetime.datetime(2024, 4, 13, 18, 53, 2), 'deleted_at': None}, {'id': 155, 'account_id': 'hana4321', 'dw_date': datetime.date(2024, 2, 10), 'category': '고객용품비', 'client': 'ABC용품사', 'deposit': 0, 'withdrawal': 15000000, 'description': '고객용품비 지출', 'created_at': datetime.datetime(2024, 4, 13, 18, 53, 2), 'deleted_at': None}, {'id': 156, 'account_id': 'hana4321', 'dw_date': datetime.date(2024, 2, 17), 'category': '고객용품비', 'client': 'ABC용품사', 'deposit': 0, 'withdrawal': 20000000, 'description': '고객용품비 지출', 'created_at': datetime.datetime(2024, 4, 13, 18, 53, 2), 'deleted_at': None}, {'id': 157, 'account_id': 'hana4321', 'dw_date': datetime.date(2024, 2, 24), 'category': '고객용품비', 'client': 'ABC용품사', 'deposit': 0, 'withdrawal': 15000000, 'description': '고객용품비 지출', 'created_at': datetime.datetime(2024, 4, 13, 18, 53, 2), 'deleted_at': None}, {'id': 158, 'account_id': 'hana4321', 'dw_date': datetime.date(2024, 2, 29), 'category': '고객용품비', 'client': 'ABC용품사', 'deposit': 0, 'withdrawal': 15000000, 'description': '고객용품비 지출', 'created_at': datetime.datetime(2024, 4, 13, 18, 53, 2), 'deleted_at': None}, {'id': 159, 'account_id': 'hana4321', 'dw_date': datetime.date(2024, 2, 19), 'category': '수도광열비', 'client': '수도광열비', 'deposit': 0, 'withdrawal': 41000000, 'description': '수도광열비 등', 'created_at': datetime.datetime(2024, 4, 13, 18, 53, 2), 'deleted_at': None}, {'id': 160, 'account_id': 'hana4321', 'dw_date': datetime.date(2024, 2, 24), 'category': '노무용역비', 'client': '노무용역사', 'deposit': 0, 'withdrawal': 170000000, 'description': '노무용역비', 'created_at': datetime.datetime(2024, 4, 13, 18, 53, 2), 'deleted_at': None}, {'id': 161, 'account_id': 'hana4321', 'dw_date': datetime.date(2024, 2, 10), 'category': '세금과공과', 'client': '세금과공과', 'deposit': 0, 'withdrawal': 85000000, 'description': '세금과공과', 'created_at': datetime.datetime(2024, 4, 13, 18, 53, 2), 'deleted_at': None}, {'id': 162, 'account_id': 'hana4321', 'dw_date': datetime.date(2024, 2, 3), 'category': '기타영업비용', 'client': 'A사', 'deposit': 0, 'withdrawal': 15000000, 'description': '영업비용A', 'created_at': datetime.datetime(2024, 4, 13, 18, 53, 2), 'deleted_at': None}, {'id': 163, 'account_id': 'hana4321', 'dw_date': datetime.date(2024, 2, 10), 'category': '기타영업비용', 'client': 'B사', 'deposit': 0, 'withdrawal': 20000000, 'description': '영업비용B', 'created_at': datetime.datetime(2024, 4, 13, 18, 53, 2), 'deleted_at': None}, {'id': 164, 'account_id': 'hana4321', 'dw_date': datetime.date(2024, 2, 17), 'category': '기타영업비용', 'client': 'A사', 'deposit': 0, 'withdrawal': 18000000, 'description': '영업비용C', 'created_at': datetime.datetime(2024, 4, 13, 18, 53, 2), 'deleted_at': None}, {'id': 165, 'account_id': 'hana4321', 'dw_date': datetime.date(2024, 2, 24), 'category': '기타영업비용', 'client': 'C사', 'deposit': 0, 'withdrawal': 15000000, 'description': '영업비용D', 'created_at': datetime.datetime(2024, 4, 13, 18, 53, 2), 'deleted_at': None}, {'id': 166, 'account_id': 'hana4321', 'dw_date': datetime.date(2024, 2, 29), 'category': '기타영업비용', 'client': 'C사', 'deposit': 0, 'withdrawal': 20000000, 'description': '영업비용E', 'created_at': datetime.datetime(2024, 4, 13, 18, 53, 2), 'deleted_at': None}]\n"
     ]
    }
   ],
   "source": [
    "with Connector() as conn:\n",
    "    query = \"\"\"\n",
    "        SELECT * FROM cashflow_tbl \n",
    "        WHERE dw_date BETWEEN '2024-02-01' AND '2024-02-29';\n",
    "    \"\"\"\n",
    "    conn.cursor.execute(query)\n",
    "    result = conn.cursor.fetchall()\n",
    "    print(result)"
   ]
  },
  {
   "cell_type": "code",
   "execution_count": 28,
   "metadata": {},
   "outputs": [
    {
     "data": {
      "text/plain": [
       "54"
      ]
     },
     "execution_count": 28,
     "metadata": {},
     "output_type": "execute_result"
    }
   ],
   "source": [
    "len(result)"
   ]
  },
  {
   "cell_type": "code",
   "execution_count": null,
   "metadata": {},
   "outputs": [],
   "source": []
  }
 ],
 "metadata": {
  "kernelspec": {
   "display_name": "fastcampus",
   "language": "python",
   "name": "python3"
  },
  "language_info": {
   "codemirror_mode": {
    "name": "ipython",
    "version": 3
   },
   "file_extension": ".py",
   "mimetype": "text/x-python",
   "name": "python",
   "nbconvert_exporter": "python",
   "pygments_lexer": "ipython3",
   "version": "3.11.7"
  }
 },
 "nbformat": 4,
 "nbformat_minor": 2
}
