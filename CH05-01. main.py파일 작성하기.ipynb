{
 "cells": [
  {
   "cell_type": "markdown",
   "metadata": {},
   "source": [
    "# [ 5-1. main.py파일 작성하기 ]"
   ]
  },
  {
   "cell_type": "markdown",
   "metadata": {},
   "source": [
    "## 1. main.py 파일의 역할\n",
    "* 프로그램의 시작점 : \n",
    "    - 파이썬 프로젝트에서 'main.py' 파일은 주로 프로그램의 진입점(entry point)으로 사용되며, 프로그램이 실행될 때 가장 먼저 호출되는 코드를 포함합니다.\n",
    "    - 이 파일에서 다른 모듈과 패키지를 불러오고, 필요한 초기 설정을 수행하며, 최상위 수준의 로직을 실행합니다.\n",
    "\n",
    "* 명시적 실행 컨텍스트 제공 : \n",
    "    - 'main.py'에서는 일반적으로 \"if __name__ == '__main__':\" 이라는 구문을 사용하여 직접 실행될 때만 특정 코드가 실행되도록 할 수 있습니다.\n",
    "    - 이 구문은 모듈이 다른 파일에 의해 import 될 때는 실행되지 않도록 보장합니다.\n",
    "    - 이는 모듈을 재사용할 때 부작용을 방지해줍니다.\n",
    "\n",
    "* 배포와 설치 :\n",
    "    - 애플리케이션을 배포할 때 'main.py'는 종종 실행 파일 또는 진입점 역할을 하여 사용자가 프로그램을 쉽게 실행할 수 있도록 도와줍니다."
   ]
  },
  {
   "cell_type": "markdown",
   "metadata": {},
   "source": [
    "## 2. main.py 내용 작성\n",
    "### 2-1. 주요 모듈 import 하기"
   ]
  },
  {
   "cell_type": "code",
   "execution_count": 29,
   "metadata": {},
   "outputs": [],
   "source": [
    "import pandas as pd\n",
    "from openpyxl import Workbook, load_workbook\n",
    "\n",
    "from connector import Connector"
   ]
  },
  {
   "cell_type": "markdown",
   "metadata": {},
   "source": [
    "### 2-2. main.py 함수 작성"
   ]
  },
  {
   "cell_type": "code",
   "execution_count": 26,
   "metadata": {},
   "outputs": [],
   "source": [
    "def main():\n",
    "    print(\"Insert or select cashflow data.\")\n",
    "    print(\"Choose one.\")\n",
    "    print(\"1. Insert cashflow data(INSERT_FCHotel_cashflow.xlsx)\")\n",
    "    print(\"2. Select data\")\n",
    "    case_no = input(\">>> \")\n",
    "\n",
    "    if case_no == '1':\n",
    "        insert_cashflow_data()\n",
    "    elif case_no == '2':\n",
    "        query = input(\"query > \")\n",
    "        xlfilename = input(\"xlfilename > \")\n",
    "        select_cashflow_data(query, xlfilename)\n",
    "    else:\n",
    "        print(\"Wrong Choice\")"
   ]
  },
  {
   "cell_type": "markdown",
   "metadata": {},
   "source": [
    "### 2-3. INSERT 함수 작성"
   ]
  },
  {
   "cell_type": "code",
   "execution_count": 6,
   "metadata": {},
   "outputs": [],
   "source": [
    "def insert_cashflow_data():\n",
    "    xlfilename = 'INSERT_FCHotel_cashflow.xlsx'\n",
    "\n",
    "    # 엑셀 파일 로드\n",
    "    workbook = load_workbook(xlfilename)\n",
    "\n",
    "    # Insert Data가 있는 Sheet 설정\n",
    "    sheet = workbook['InsertSheet']\n",
    "\n",
    "    # 첫번째 행(컬럼 이름) 가져오기 \n",
    "    columns = [\n",
    "        cell.value for cell \n",
    "        in next(sheet.iter_rows(min_row=1, max_row=1))\n",
    "    ]\n",
    "\n",
    "    # 데이터를 딕셔너리 리스트로 변환 \n",
    "    data = [] \n",
    "    for row in sheet.iter_rows(min_row=2):\n",
    "        record = {\n",
    "            columns[i]: cell.value \n",
    "            for i, cell in enumerate(row)\n",
    "        } \n",
    "        data.append(record)\n",
    "\n",
    "    # 딕셔너리 리스트를 DataFrame으로 변환 \n",
    "    df = pd.DataFrame(data)\n",
    "\n",
    "    with Connector() as conn:\n",
    "        # INSERT 쿼리문 작성\n",
    "        query = \"\"\"\n",
    "            INSERT INTO cashflow_tbl (\n",
    "                account_id, dw_date, category, client, \n",
    "                deposit, withdrawal, description\n",
    "            )\t\t\t\t\t\t\n",
    "            VALUES (%s, %s, %s, %s, %s, %s, %s);\t\t\t\t\n",
    "        \"\"\"\n",
    "\n",
    "        # DataFrame으로부터 한줄씩 데이터를 읽어서 INSERT 쿼리문 실행\n",
    "        for index, row in df.iterrows():\n",
    "            val = (\n",
    "                row['account_id'], row['dw_date'], row['category'], \n",
    "                row['client'], row['deposit'], row['withdrawal'], \n",
    "                row['description']\n",
    "            )\n",
    "            conn.cursor.execute(query, val)\n",
    "\n",
    "        # 변경사항 커밋\n",
    "        conn.connection.commit()"
   ]
  },
  {
   "cell_type": "markdown",
   "metadata": {},
   "source": [
    "### 2-4. SELECT 함수 작성"
   ]
  },
  {
   "cell_type": "code",
   "execution_count": 25,
   "metadata": {},
   "outputs": [],
   "source": [
    "def select_cashflow_data(query, xlfilename):\n",
    "    with Connector() as conn:\n",
    "        conn.cursor.execute(query)\n",
    "        result = conn.cursor.fetchall()\n",
    "\n",
    "    # 새로운 워크북(엑셀 파일) 생성\n",
    "    workbook = Workbook()\n",
    "\n",
    "    # 활성 시트(첫번째 시트) 선택\n",
    "    sheet = workbook.active\n",
    "\n",
    "    # 데이터의 키를 엑셀 파일의 첫번째 행에 헤더로 삽입\n",
    "    headers = result[0].keys()\n",
    "    sheet.append(list(headers))\n",
    "\n",
    "    # 각 딕셔너리의 값을 차례로 행에 삽입\n",
    "    for item in result:\n",
    "        sheet.append(list(item.values()))\n",
    "\n",
    "    # 엑셀 파일 저장\n",
    "    workbook.save(xlfilename)"
   ]
  },
  {
   "cell_type": "markdown",
   "metadata": {},
   "source": [
    "## 3. main() 함수 테스트하기"
   ]
  },
  {
   "cell_type": "code",
   "execution_count": 30,
   "metadata": {},
   "outputs": [
    {
     "name": "stdout",
     "output_type": "stream",
     "text": [
      "Insert or select cashflow data.\n",
      "Choose one.\n",
      "1. Insert cashflow data(INSERT_FCHotel_cashflow.xlsx)\n",
      "2. Select data\n"
     ]
    }
   ],
   "source": [
    "main()"
   ]
  },
  {
   "cell_type": "markdown",
   "metadata": {},
   "source": [
    "```\n",
    ">>> 2\n",
    "query > SELECT * FROM cashflow.cashflow_tbl;\n",
    "xlfilename > data_select_main1.xlsx\n",
    "```"
   ]
  },
  {
   "cell_type": "markdown",
   "metadata": {},
   "source": [
    "## 4. main.py 파일 생성하기"
   ]
  },
  {
   "cell_type": "markdown",
   "metadata": {},
   "source": [
    "1. main.py 파일 생성\n",
    "\n",
    "2. 작성된 코드 붙여넣기\n",
    "\n",
    "3. 아래 구문 추가\n",
    "```\n",
    "    if __name__ == '__main__':\n",
    "    main()\n",
    "```"
   ]
  },
  {
   "cell_type": "markdown",
   "metadata": {},
   "source": [
    "4. main.py 파일 실행하기"
   ]
  },
  {
   "cell_type": "code",
   "execution_count": 31,
   "metadata": {},
   "outputs": [
    {
     "name": "stdout",
     "output_type": "stream",
     "text": [
      "Insert or select cashflow data.\n",
      "Choose one.\n",
      "1. Insert cashflow data(INSERT_FCHotel_cashflow.xlsx)\n",
      "2. Select data\n"
     ]
    }
   ],
   "source": [
    "%run main.py"
   ]
  },
  {
   "cell_type": "markdown",
   "metadata": {},
   "source": [
    "```\n",
    ">>> 2\n",
    "\n",
    "query > SELECT account_id, SUM(deposit) AS total_deposit, SUM(withdrawal) AS total_withdrawal, SUM(deposit) - SUM(withdrawal) AS balance FROM cashflow_tbl GROUP BY account_id;\n",
    "\n",
    "xlfilename > data_select_main2.xlsx\n",
    "```"
   ]
  },
  {
   "cell_type": "markdown",
   "metadata": {},
   "source": []
  }
 ],
 "metadata": {
  "kernelspec": {
   "display_name": "fastcampus",
   "language": "python",
   "name": "python3"
  },
  "language_info": {
   "codemirror_mode": {
    "name": "ipython",
    "version": 3
   },
   "file_extension": ".py",
   "mimetype": "text/x-python",
   "name": "python",
   "nbconvert_exporter": "python",
   "pygments_lexer": "ipython3",
   "version": "3.11.7"
  }
 },
 "nbformat": 4,
 "nbformat_minor": 2
}
