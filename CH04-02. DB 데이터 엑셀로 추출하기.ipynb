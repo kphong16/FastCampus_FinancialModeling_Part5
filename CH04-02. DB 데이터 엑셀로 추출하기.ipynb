{
 "cells": [
  {
   "cell_type": "markdown",
   "metadata": {},
   "source": [
    "# [ 4-2. DB 데이터 엑셀로 추출하기 ]"
   ]
  },
  {
   "cell_type": "markdown",
   "metadata": {},
   "source": [
    "## 1. 엑셀파일 쓰기 기초"
   ]
  },
  {
   "cell_type": "code",
   "execution_count": 1,
   "metadata": {},
   "outputs": [],
   "source": [
    "from openpyxl import Workbook\n",
    "\n",
    "# 새로운 워크북(엑셀 파일) 생성\n",
    "workbook = Workbook()\n",
    "\n",
    "# 활성 시트(첫번째 시트) 선택\n",
    "sheet = workbook.active\n",
    "\n",
    "# 시트 이름 변경\n",
    "sheet.title = \"DataSheet\"\n",
    "\n",
    "# 셀에 데이터 쓰기\n",
    "sheet['A1'] = 'Name'\n",
    "sheet['B1'] = 'Age'\n",
    "sheet['C1'] = 'Gender'\n",
    "\n",
    "# 여러 셀에 데이터 쓰기\n",
    "data = [\n",
    "    ('John', 25, 'male'),\n",
    "    ('Emily', 30, 'female'),\n",
    "    ('Michael', 35, 'male')\n",
    "]\n",
    "for row_data in data:\n",
    "    sheet.append(row_data)\n",
    "\n",
    "# 엑셀 파일 저장\n",
    "workbook.save('excel_data2.xlsx')"
   ]
  },
  {
   "cell_type": "markdown",
   "metadata": {},
   "source": [
    "## 2. 데이터베이스의 데이터를 엑셀파일로 출력하기"
   ]
  },
  {
   "cell_type": "markdown",
   "metadata": {},
   "source": [
    "### 2-1. 데이터베이스 데이터 읽어오기"
   ]
  },
  {
   "cell_type": "code",
   "execution_count": 10,
   "metadata": {},
   "outputs": [],
   "source": [
    "from connector import Connector\n",
    "\n",
    "with Connector() as conn:\n",
    "    query = \"SELECT * FROM cashflow_tbl WHERE deposit > 0;\"\n",
    "    conn.cursor.execute(query)\n",
    "    result = conn.cursor.fetchall()"
   ]
  },
  {
   "cell_type": "code",
   "execution_count": 3,
   "metadata": {},
   "outputs": [
    {
     "name": "stdout",
     "output_type": "stream",
     "text": [
      "[{'id': 1, 'account_id': 'hana4321', 'dw_date': datetime.date(2024, 1, 2), 'category': '자본금', 'client': 'FC사', 'deposit': 2000000000, 'withdrawal': 0, 'description': '자본금 입금', 'created_at': datetime.datetime(2024, 4, 10, 23, 40, 21), 'deleted_at': None}, {'id': 3, 'account_id': 'shhn4567', 'dw_date': datetime.date(2024, 1, 2), 'category': '계좌이체', 'client': 'FC사', 'deposit': 1000000000, 'withdrawal': 0, 'description': '정기예금 예치', 'created_at': datetime.datetime(2024, 4, 10, 23, 40, 21), 'deleted_at': None}, {'id': 4, 'account_id': 'hana1234', 'dw_date': datetime.date(2024, 1, 3), 'category': '객실수입', 'client': '호텔스닷컴', 'deposit': 33000000, 'withdrawal': 0, 'description': '객실 매출', 'created_at': datetime.datetime(2024, 4, 10, 23, 40, 21), 'deleted_at': None}, {'id': 7, 'account_id': 'hana1234', 'dw_date': datetime.date(2024, 1, 4), 'category': '객실수입', 'client': '호텔스넷', 'deposit': 25000000, 'withdrawal': 0, 'description': '객실 매출', 'created_at': datetime.datetime(2024, 4, 10, 23, 40, 21), 'deleted_at': None}, {'id': 8, 'account_id': 'hana1234', 'dw_date': datetime.date(2024, 1, 5), 'category': '객실수입', 'client': '호텔스닷컴', 'deposit': 30000000, 'withdrawal': 0, 'description': '객실 매출', 'created_at': datetime.datetime(2024, 4, 10, 23, 40, 21), 'deleted_at': None}, {'id': 9, 'account_id': 'hana1234', 'dw_date': datetime.date(2024, 1, 6), 'category': '객실수입', 'client': '호텔스넷', 'deposit': 25000000, 'withdrawal': 0, 'description': '객실 매출', 'created_at': datetime.datetime(2024, 4, 10, 23, 40, 21), 'deleted_at': None}, {'id': 10, 'account_id': 'hana1234', 'dw_date': datetime.date(2024, 1, 7), 'category': '객실수입', 'client': '호텔스닷컴', 'deposit': 31000000, 'withdrawal': 0, 'description': '객실 매출', 'created_at': datetime.datetime(2024, 4, 10, 23, 40, 21), 'deleted_at': None}, {'id': 12, 'account_id': 'hana1234', 'dw_date': datetime.date(2024, 1, 8), 'category': '객실수입', 'client': '호텔스넷', 'deposit': 25000000, 'withdrawal': 0, 'description': '객실 매출', 'created_at': datetime.datetime(2024, 4, 10, 23, 40, 21), 'deleted_at': None}, {'id': 14, 'account_id': 'hana1234', 'dw_date': datetime.date(2024, 1, 9), 'category': '객실수입', 'client': '호텔스닷컴', 'deposit': 31000000, 'withdrawal': 0, 'description': '객실 매출', 'created_at': datetime.datetime(2024, 4, 10, 23, 40, 21), 'deleted_at': None}, {'id': 15, 'account_id': 'hana1234', 'dw_date': datetime.date(2024, 1, 10), 'category': '객실수입', 'client': '호텔스넷', 'deposit': 27000000, 'withdrawal': 0, 'description': '객실 매출', 'created_at': datetime.datetime(2024, 4, 10, 23, 40, 21), 'deleted_at': None}, {'id': 19, 'account_id': 'hana1234', 'dw_date': datetime.date(2024, 1, 11), 'category': '객실수입', 'client': '호텔스닷컴', 'deposit': 25000000, 'withdrawal': 0, 'description': '객실 매출', 'created_at': datetime.datetime(2024, 4, 10, 23, 43, 17), 'deleted_at': None}, {'id': 20, 'account_id': 'hana1234', 'dw_date': datetime.date(2024, 1, 12), 'category': '객실수입', 'client': '호텔스넷', 'deposit': 32000000, 'withdrawal': 0, 'description': '객실 매출', 'created_at': datetime.datetime(2024, 4, 10, 23, 43, 17), 'deleted_at': None}, {'id': 21, 'account_id': 'hana1234', 'dw_date': datetime.date(2024, 1, 13), 'category': '객실수입', 'client': '호텔스닷컴', 'deposit': 35000000, 'withdrawal': 0, 'description': '객실 매출', 'created_at': datetime.datetime(2024, 4, 10, 23, 43, 17), 'deleted_at': None}, {'id': 23, 'account_id': 'hana1234', 'dw_date': datetime.date(2024, 1, 14), 'category': '객실수입', 'client': '호텔스넷', 'deposit': 33000000, 'withdrawal': 0, 'description': '객실 매출', 'created_at': datetime.datetime(2024, 4, 10, 23, 43, 17), 'deleted_at': None}, {'id': 25, 'account_id': 'hana1234', 'dw_date': datetime.date(2024, 1, 15), 'category': '객실수입', 'client': '호텔스닷컴', 'deposit': 24000000, 'withdrawal': 0, 'description': '객실 매출', 'created_at': datetime.datetime(2024, 4, 10, 23, 43, 17), 'deleted_at': None}, {'id': 26, 'account_id': 'hana1234', 'dw_date': datetime.date(2024, 1, 16), 'category': '객실수입', 'client': '호텔스넷', 'deposit': 22000000, 'withdrawal': 0, 'description': '객실 매출', 'created_at': datetime.datetime(2024, 4, 10, 23, 43, 17), 'deleted_at': None}, {'id': 27, 'account_id': 'hana1234', 'dw_date': datetime.date(2024, 1, 17), 'category': '객실수입', 'client': '호텔스닷컴', 'deposit': 25000000, 'withdrawal': 0, 'description': '객실 매출', 'created_at': datetime.datetime(2024, 4, 10, 23, 43, 17), 'deleted_at': None}, {'id': 30, 'account_id': 'hana1234', 'dw_date': datetime.date(2024, 1, 18), 'category': '객실수입', 'client': '호텔스넷', 'deposit': 28000000, 'withdrawal': 0, 'description': '객실 매출', 'created_at': datetime.datetime(2024, 4, 10, 23, 43, 17), 'deleted_at': None}, {'id': 31, 'account_id': 'hana1234', 'dw_date': datetime.date(2024, 1, 19), 'category': '객실수입', 'client': '호텔스닷컴', 'deposit': 25000000, 'withdrawal': 0, 'description': '객실 매출', 'created_at': datetime.datetime(2024, 4, 10, 23, 43, 17), 'deleted_at': None}, {'id': 34, 'account_id': 'hana1234', 'dw_date': datetime.date(2024, 1, 20), 'category': '객실수입', 'client': '호텔스넷', 'deposit': 27000000, 'withdrawal': 0, 'description': '객실 매출', 'created_at': datetime.datetime(2024, 4, 10, 23, 43, 17), 'deleted_at': None}, {'id': 36, 'account_id': 'hana1234', 'dw_date': datetime.date(2024, 1, 21), 'category': '객실수입', 'client': '호텔스닷컴', 'deposit': 29000000, 'withdrawal': 0, 'description': '객실 매출', 'created_at': datetime.datetime(2024, 4, 10, 23, 43, 21), 'deleted_at': None}, {'id': 38, 'account_id': 'hana1234', 'dw_date': datetime.date(2024, 1, 22), 'category': '객실수입', 'client': '호텔스넷', 'deposit': 28000000, 'withdrawal': 0, 'description': '객실 매출', 'created_at': datetime.datetime(2024, 4, 10, 23, 43, 21), 'deleted_at': None}, {'id': 39, 'account_id': 'hana1234', 'dw_date': datetime.date(2024, 1, 23), 'category': '객실수입', 'client': '호텔스닷컴', 'deposit': 31000000, 'withdrawal': 0, 'description': '객실 매출', 'created_at': datetime.datetime(2024, 4, 10, 23, 43, 21), 'deleted_at': None}, {'id': 40, 'account_id': 'hana1234', 'dw_date': datetime.date(2024, 1, 24), 'category': '객실수입', 'client': '호텔스넷', 'deposit': 25000000, 'withdrawal': 0, 'description': '객실 매출', 'created_at': datetime.datetime(2024, 4, 10, 23, 43, 21), 'deleted_at': None}, {'id': 44, 'account_id': 'hana1234', 'dw_date': datetime.date(2024, 1, 25), 'category': '객실수입', 'client': '호텔스닷컴', 'deposit': 30000000, 'withdrawal': 0, 'description': '객실 매출', 'created_at': datetime.datetime(2024, 4, 10, 23, 43, 21), 'deleted_at': None}, {'id': 46, 'account_id': 'hana1234', 'dw_date': datetime.date(2024, 1, 26), 'category': '객실수입', 'client': '호텔스넷', 'deposit': 31000000, 'withdrawal': 0, 'description': '객실 매출', 'created_at': datetime.datetime(2024, 4, 10, 23, 43, 21), 'deleted_at': None}, {'id': 48, 'account_id': 'hana1234', 'dw_date': datetime.date(2024, 1, 27), 'category': '객실수입', 'client': '호텔스닷컴', 'deposit': 25000000, 'withdrawal': 0, 'description': '객실 매출', 'created_at': datetime.datetime(2024, 4, 10, 23, 43, 21), 'deleted_at': None}, {'id': 49, 'account_id': 'hana1234', 'dw_date': datetime.date(2024, 1, 28), 'category': '객실수입', 'client': '호텔스넷', 'deposit': 30000000, 'withdrawal': 0, 'description': '객실 매출', 'created_at': datetime.datetime(2024, 4, 10, 23, 43, 21), 'deleted_at': None}, {'id': 50, 'account_id': 'hana1234', 'dw_date': datetime.date(2024, 1, 29), 'category': '객실수입', 'client': '호텔스닷컴', 'deposit': 32000000, 'withdrawal': 0, 'description': '객실 매출', 'created_at': datetime.datetime(2024, 4, 10, 23, 43, 21), 'deleted_at': None}, {'id': 51, 'account_id': 'hana1234', 'dw_date': datetime.date(2024, 1, 30), 'category': '객실수입', 'client': '호텔스넷', 'deposit': 27000000, 'withdrawal': 0, 'description': '객실 매출', 'created_at': datetime.datetime(2024, 4, 10, 23, 43, 21), 'deleted_at': None}, {'id': 53, 'account_id': 'hana1234', 'dw_date': datetime.date(2024, 1, 31), 'category': '객실수입', 'client': '호텔스닷컴', 'deposit': 32000000, 'withdrawal': 0, 'description': '객실 매출', 'created_at': datetime.datetime(2024, 4, 10, 23, 43, 21), 'deleted_at': None}, {'id': 113, 'account_id': 'shhn4567', 'dw_date': datetime.date(2024, 2, 2), 'category': '이자수입', 'client': '신한은행', 'deposit': 4246575, 'withdrawal': 0, 'description': '정기예금 이자', 'created_at': datetime.datetime(2024, 4, 13, 18, 40, 37), 'deleted_at': None}, {'id': 114, 'account_id': 'hana1234', 'dw_date': datetime.date(2024, 2, 1), 'category': '객실수입', 'client': '호텔스닷컴', 'deposit': 33000000, 'withdrawal': 0, 'description': '객실 매출', 'created_at': datetime.datetime(2024, 4, 13, 18, 47, 25), 'deleted_at': None}, {'id': 115, 'account_id': 'hana1234', 'dw_date': datetime.date(2024, 2, 2), 'category': '객실수입', 'client': '호텔스넷', 'deposit': 25000000, 'withdrawal': 0, 'description': '객실 매출', 'created_at': datetime.datetime(2024, 4, 13, 18, 53, 2), 'deleted_at': None}, {'id': 116, 'account_id': 'hana1234', 'dw_date': datetime.date(2024, 2, 3), 'category': '객실수입', 'client': '호텔스닷컴', 'deposit': 30000000, 'withdrawal': 0, 'description': '객실 매출', 'created_at': datetime.datetime(2024, 4, 13, 18, 53, 2), 'deleted_at': None}, {'id': 117, 'account_id': 'hana1234', 'dw_date': datetime.date(2024, 2, 4), 'category': '객실수입', 'client': '호텔스넷', 'deposit': 25000000, 'withdrawal': 0, 'description': '객실 매출', 'created_at': datetime.datetime(2024, 4, 13, 18, 53, 2), 'deleted_at': None}, {'id': 118, 'account_id': 'hana1234', 'dw_date': datetime.date(2024, 2, 5), 'category': '객실수입', 'client': '호텔스닷컴', 'deposit': 31000000, 'withdrawal': 0, 'description': '객실 매출', 'created_at': datetime.datetime(2024, 4, 13, 18, 53, 2), 'deleted_at': None}, {'id': 119, 'account_id': 'hana1234', 'dw_date': datetime.date(2024, 2, 6), 'category': '객실수입', 'client': '호텔스넷', 'deposit': 25000000, 'withdrawal': 0, 'description': '객실 매출', 'created_at': datetime.datetime(2024, 4, 13, 18, 53, 2), 'deleted_at': None}, {'id': 120, 'account_id': 'hana1234', 'dw_date': datetime.date(2024, 2, 7), 'category': '객실수입', 'client': '호텔스닷컴', 'deposit': 31000000, 'withdrawal': 0, 'description': '객실 매출', 'created_at': datetime.datetime(2024, 4, 13, 18, 53, 2), 'deleted_at': None}, {'id': 121, 'account_id': 'hana1234', 'dw_date': datetime.date(2024, 2, 8), 'category': '객실수입', 'client': '호텔스넷', 'deposit': 27000000, 'withdrawal': 0, 'description': '객실 매출', 'created_at': datetime.datetime(2024, 4, 13, 18, 53, 2), 'deleted_at': None}, {'id': 122, 'account_id': 'hana1234', 'dw_date': datetime.date(2024, 2, 9), 'category': '객실수입', 'client': '호텔스닷컴', 'deposit': 25000000, 'withdrawal': 0, 'description': '객실 매출', 'created_at': datetime.datetime(2024, 4, 13, 18, 53, 2), 'deleted_at': None}, {'id': 123, 'account_id': 'hana1234', 'dw_date': datetime.date(2024, 2, 10), 'category': '객실수입', 'client': '호텔스넷', 'deposit': 32000000, 'withdrawal': 0, 'description': '객실 매출', 'created_at': datetime.datetime(2024, 4, 13, 18, 53, 2), 'deleted_at': None}, {'id': 124, 'account_id': 'hana1234', 'dw_date': datetime.date(2024, 2, 11), 'category': '객실수입', 'client': '호텔스닷컴', 'deposit': 35000000, 'withdrawal': 0, 'description': '객실 매출', 'created_at': datetime.datetime(2024, 4, 13, 18, 53, 2), 'deleted_at': None}, {'id': 125, 'account_id': 'hana1234', 'dw_date': datetime.date(2024, 2, 12), 'category': '객실수입', 'client': '호텔스넷', 'deposit': 33000000, 'withdrawal': 0, 'description': '객실 매출', 'created_at': datetime.datetime(2024, 4, 13, 18, 53, 2), 'deleted_at': None}, {'id': 126, 'account_id': 'hana1234', 'dw_date': datetime.date(2024, 2, 13), 'category': '객실수입', 'client': '호텔스닷컴', 'deposit': 24000000, 'withdrawal': 0, 'description': '객실 매출', 'created_at': datetime.datetime(2024, 4, 13, 18, 53, 2), 'deleted_at': None}, {'id': 127, 'account_id': 'hana1234', 'dw_date': datetime.date(2024, 2, 14), 'category': '객실수입', 'client': '호텔스넷', 'deposit': 22000000, 'withdrawal': 0, 'description': '객실 매출', 'created_at': datetime.datetime(2024, 4, 13, 18, 53, 2), 'deleted_at': None}, {'id': 128, 'account_id': 'hana1234', 'dw_date': datetime.date(2024, 2, 15), 'category': '객실수입', 'client': '호텔스닷컴', 'deposit': 25000000, 'withdrawal': 0, 'description': '객실 매출', 'created_at': datetime.datetime(2024, 4, 13, 18, 53, 2), 'deleted_at': None}, {'id': 129, 'account_id': 'hana1234', 'dw_date': datetime.date(2024, 2, 16), 'category': '객실수입', 'client': '호텔스넷', 'deposit': 28000000, 'withdrawal': 0, 'description': '객실 매출', 'created_at': datetime.datetime(2024, 4, 13, 18, 53, 2), 'deleted_at': None}, {'id': 130, 'account_id': 'hana1234', 'dw_date': datetime.date(2024, 2, 17), 'category': '객실수입', 'client': '호텔스닷컴', 'deposit': 25000000, 'withdrawal': 0, 'description': '객실 매출', 'created_at': datetime.datetime(2024, 4, 13, 18, 53, 2), 'deleted_at': None}, {'id': 131, 'account_id': 'hana1234', 'dw_date': datetime.date(2024, 2, 18), 'category': '객실수입', 'client': '호텔스넷', 'deposit': 27000000, 'withdrawal': 0, 'description': '객실 매출', 'created_at': datetime.datetime(2024, 4, 13, 18, 53, 2), 'deleted_at': None}, {'id': 132, 'account_id': 'hana1234', 'dw_date': datetime.date(2024, 2, 19), 'category': '객실수입', 'client': '호텔스닷컴', 'deposit': 29000000, 'withdrawal': 0, 'description': '객실 매출', 'created_at': datetime.datetime(2024, 4, 13, 18, 53, 2), 'deleted_at': None}, {'id': 133, 'account_id': 'hana1234', 'dw_date': datetime.date(2024, 2, 20), 'category': '객실수입', 'client': '호텔스넷', 'deposit': 28000000, 'withdrawal': 0, 'description': '객실 매출', 'created_at': datetime.datetime(2024, 4, 13, 18, 53, 2), 'deleted_at': None}, {'id': 134, 'account_id': 'hana1234', 'dw_date': datetime.date(2024, 2, 21), 'category': '객실수입', 'client': '호텔스닷컴', 'deposit': 31000000, 'withdrawal': 0, 'description': '객실 매출', 'created_at': datetime.datetime(2024, 4, 13, 18, 53, 2), 'deleted_at': None}, {'id': 135, 'account_id': 'hana1234', 'dw_date': datetime.date(2024, 2, 22), 'category': '객실수입', 'client': '호텔스넷', 'deposit': 25000000, 'withdrawal': 0, 'description': '객실 매출', 'created_at': datetime.datetime(2024, 4, 13, 18, 53, 2), 'deleted_at': None}, {'id': 136, 'account_id': 'hana1234', 'dw_date': datetime.date(2024, 2, 23), 'category': '객실수입', 'client': '호텔스닷컴', 'deposit': 30000000, 'withdrawal': 0, 'description': '객실 매출', 'created_at': datetime.datetime(2024, 4, 13, 18, 53, 2), 'deleted_at': None}, {'id': 137, 'account_id': 'hana1234', 'dw_date': datetime.date(2024, 2, 24), 'category': '객실수입', 'client': '호텔스넷', 'deposit': 31000000, 'withdrawal': 0, 'description': '객실 매출', 'created_at': datetime.datetime(2024, 4, 13, 18, 53, 2), 'deleted_at': None}, {'id': 138, 'account_id': 'hana1234', 'dw_date': datetime.date(2024, 2, 25), 'category': '객실수입', 'client': '호텔스닷컴', 'deposit': 25000000, 'withdrawal': 0, 'description': '객실 매출', 'created_at': datetime.datetime(2024, 4, 13, 18, 53, 2), 'deleted_at': None}, {'id': 139, 'account_id': 'hana1234', 'dw_date': datetime.date(2024, 2, 26), 'category': '객실수입', 'client': '호텔스넷', 'deposit': 30000000, 'withdrawal': 0, 'description': '객실 매출', 'created_at': datetime.datetime(2024, 4, 13, 18, 53, 2), 'deleted_at': None}, {'id': 140, 'account_id': 'hana1234', 'dw_date': datetime.date(2024, 2, 27), 'category': '객실수입', 'client': '호텔스닷컴', 'deposit': 32000000, 'withdrawal': 0, 'description': '객실 매출', 'created_at': datetime.datetime(2024, 4, 13, 18, 53, 2), 'deleted_at': None}, {'id': 141, 'account_id': 'hana1234', 'dw_date': datetime.date(2024, 2, 28), 'category': '객실수입', 'client': '호텔스넷', 'deposit': 27000000, 'withdrawal': 0, 'description': '객실 매출', 'created_at': datetime.datetime(2024, 4, 13, 18, 53, 2), 'deleted_at': None}, {'id': 142, 'account_id': 'hana1234', 'dw_date': datetime.date(2024, 2, 29), 'category': '객실수입', 'client': '호텔스닷컴', 'deposit': 32000000, 'withdrawal': 0, 'description': '객실 매출', 'created_at': datetime.datetime(2024, 4, 13, 18, 53, 2), 'deleted_at': None}, {'id': 167, 'account_id': 'shhn4567', 'dw_date': datetime.date(2024, 3, 2), 'category': '이자수입', 'client': '신한은행', 'deposit': 4246575, 'withdrawal': 0, 'description': '정기예금 이자', 'created_at': datetime.datetime(2024, 4, 15, 10, 27, 23), 'deleted_at': None}, {'id': 168, 'account_id': 'hana1234', 'dw_date': datetime.date(2024, 3, 1), 'category': '객실수입', 'client': '호텔스닷컴', 'deposit': 40000000, 'withdrawal': 0, 'description': '객실 매출', 'created_at': datetime.datetime(2024, 4, 15, 10, 27, 23), 'deleted_at': None}, {'id': 169, 'account_id': 'hana1234', 'dw_date': datetime.date(2024, 3, 2), 'category': '객실수입', 'client': '호텔스넷', 'deposit': 29000000, 'withdrawal': 0, 'description': '객실 매출', 'created_at': datetime.datetime(2024, 4, 15, 10, 27, 23), 'deleted_at': None}, {'id': 170, 'account_id': 'hana1234', 'dw_date': datetime.date(2024, 3, 3), 'category': '객실수입', 'client': '호텔스닷컴', 'deposit': 40000000, 'withdrawal': 0, 'description': '객실 매출', 'created_at': datetime.datetime(2024, 4, 15, 10, 27, 23), 'deleted_at': None}, {'id': 171, 'account_id': 'hana1234', 'dw_date': datetime.date(2024, 3, 4), 'category': '객실수입', 'client': '호텔스넷', 'deposit': 30000000, 'withdrawal': 0, 'description': '객실 매출', 'created_at': datetime.datetime(2024, 4, 15, 10, 27, 23), 'deleted_at': None}, {'id': 172, 'account_id': 'hana1234', 'dw_date': datetime.date(2024, 3, 5), 'category': '객실수입', 'client': '호텔스닷컴', 'deposit': 40000000, 'withdrawal': 0, 'description': '객실 매출', 'created_at': datetime.datetime(2024, 4, 15, 10, 27, 23), 'deleted_at': None}, {'id': 173, 'account_id': 'hana1234', 'dw_date': datetime.date(2024, 3, 6), 'category': '객실수입', 'client': '호텔스넷', 'deposit': 27000000, 'withdrawal': 0, 'description': '객실 매출', 'created_at': datetime.datetime(2024, 4, 15, 10, 27, 23), 'deleted_at': None}, {'id': 174, 'account_id': 'hana1234', 'dw_date': datetime.date(2024, 3, 7), 'category': '객실수입', 'client': '호텔스닷컴', 'deposit': 34000000, 'withdrawal': 0, 'description': '객실 매출', 'created_at': datetime.datetime(2024, 4, 15, 10, 27, 23), 'deleted_at': None}, {'id': 175, 'account_id': 'hana1234', 'dw_date': datetime.date(2024, 3, 8), 'category': '객실수입', 'client': '호텔스넷', 'deposit': 31000000, 'withdrawal': 0, 'description': '객실 매출', 'created_at': datetime.datetime(2024, 4, 15, 10, 27, 23), 'deleted_at': None}, {'id': 176, 'account_id': 'hana1234', 'dw_date': datetime.date(2024, 3, 9), 'category': '객실수입', 'client': '호텔스닷컴', 'deposit': 28000000, 'withdrawal': 0, 'description': '객실 매출', 'created_at': datetime.datetime(2024, 4, 15, 10, 27, 23), 'deleted_at': None}, {'id': 177, 'account_id': 'hana1234', 'dw_date': datetime.date(2024, 3, 10), 'category': '객실수입', 'client': '호텔스넷', 'deposit': 20000000, 'withdrawal': 0, 'description': '객실 매출', 'created_at': datetime.datetime(2024, 4, 15, 10, 27, 23), 'deleted_at': None}, {'id': 178, 'account_id': 'hana1234', 'dw_date': datetime.date(2024, 3, 11), 'category': '객실수입', 'client': '호텔스닷컴', 'deposit': 39000000, 'withdrawal': 0, 'description': '객실 매출', 'created_at': datetime.datetime(2024, 4, 15, 10, 27, 23), 'deleted_at': None}, {'id': 179, 'account_id': 'hana1234', 'dw_date': datetime.date(2024, 3, 12), 'category': '객실수입', 'client': '호텔스넷', 'deposit': 34000000, 'withdrawal': 0, 'description': '객실 매출', 'created_at': datetime.datetime(2024, 4, 15, 10, 27, 23), 'deleted_at': None}, {'id': 180, 'account_id': 'hana1234', 'dw_date': datetime.date(2024, 3, 13), 'category': '객실수입', 'client': '호텔스닷컴', 'deposit': 36000000, 'withdrawal': 0, 'description': '객실 매출', 'created_at': datetime.datetime(2024, 4, 15, 10, 27, 23), 'deleted_at': None}, {'id': 181, 'account_id': 'hana1234', 'dw_date': datetime.date(2024, 3, 14), 'category': '객실수입', 'client': '호텔스넷', 'deposit': 40000000, 'withdrawal': 0, 'description': '객실 매출', 'created_at': datetime.datetime(2024, 4, 15, 10, 27, 23), 'deleted_at': None}, {'id': 182, 'account_id': 'hana1234', 'dw_date': datetime.date(2024, 3, 15), 'category': '객실수입', 'client': '호텔스닷컴', 'deposit': 31000000, 'withdrawal': 0, 'description': '객실 매출', 'created_at': datetime.datetime(2024, 4, 15, 10, 27, 23), 'deleted_at': None}, {'id': 183, 'account_id': 'hana1234', 'dw_date': datetime.date(2024, 3, 16), 'category': '객실수입', 'client': '호텔스넷', 'deposit': 25000000, 'withdrawal': 0, 'description': '객실 매출', 'created_at': datetime.datetime(2024, 4, 15, 10, 27, 23), 'deleted_at': None}, {'id': 184, 'account_id': 'hana1234', 'dw_date': datetime.date(2024, 3, 17), 'category': '객실수입', 'client': '호텔스닷컴', 'deposit': 28000000, 'withdrawal': 0, 'description': '객실 매출', 'created_at': datetime.datetime(2024, 4, 15, 10, 27, 23), 'deleted_at': None}, {'id': 185, 'account_id': 'hana1234', 'dw_date': datetime.date(2024, 3, 18), 'category': '객실수입', 'client': '호텔스넷', 'deposit': 40000000, 'withdrawal': 0, 'description': '객실 매출', 'created_at': datetime.datetime(2024, 4, 15, 10, 27, 23), 'deleted_at': None}, {'id': 186, 'account_id': 'hana1234', 'dw_date': datetime.date(2024, 3, 19), 'category': '객실수입', 'client': '호텔스닷컴', 'deposit': 38000000, 'withdrawal': 0, 'description': '객실 매출', 'created_at': datetime.datetime(2024, 4, 15, 10, 27, 23), 'deleted_at': None}, {'id': 187, 'account_id': 'hana1234', 'dw_date': datetime.date(2024, 3, 20), 'category': '객실수입', 'client': '호텔스넷', 'deposit': 32000000, 'withdrawal': 0, 'description': '객실 매출', 'created_at': datetime.datetime(2024, 4, 15, 10, 27, 23), 'deleted_at': None}, {'id': 188, 'account_id': 'hana1234', 'dw_date': datetime.date(2024, 3, 21), 'category': '객실수입', 'client': '호텔스닷컴', 'deposit': 28000000, 'withdrawal': 0, 'description': '객실 매출', 'created_at': datetime.datetime(2024, 4, 15, 10, 27, 23), 'deleted_at': None}, {'id': 189, 'account_id': 'hana1234', 'dw_date': datetime.date(2024, 3, 22), 'category': '객실수입', 'client': '호텔스넷', 'deposit': 24000000, 'withdrawal': 0, 'description': '객실 매출', 'created_at': datetime.datetime(2024, 4, 15, 10, 27, 23), 'deleted_at': None}, {'id': 190, 'account_id': 'hana1234', 'dw_date': datetime.date(2024, 3, 23), 'category': '객실수입', 'client': '호텔스닷컴', 'deposit': 26000000, 'withdrawal': 0, 'description': '객실 매출', 'created_at': datetime.datetime(2024, 4, 15, 10, 27, 23), 'deleted_at': None}, {'id': 191, 'account_id': 'hana1234', 'dw_date': datetime.date(2024, 3, 24), 'category': '객실수입', 'client': '호텔스넷', 'deposit': 32000000, 'withdrawal': 0, 'description': '객실 매출', 'created_at': datetime.datetime(2024, 4, 15, 10, 27, 23), 'deleted_at': None}, {'id': 192, 'account_id': 'hana1234', 'dw_date': datetime.date(2024, 3, 25), 'category': '객실수입', 'client': '호텔스닷컴', 'deposit': 40000000, 'withdrawal': 0, 'description': '객실 매출', 'created_at': datetime.datetime(2024, 4, 15, 10, 27, 23), 'deleted_at': None}, {'id': 193, 'account_id': 'hana1234', 'dw_date': datetime.date(2024, 3, 26), 'category': '객실수입', 'client': '호텔스넷', 'deposit': 20000000, 'withdrawal': 0, 'description': '객실 매출', 'created_at': datetime.datetime(2024, 4, 15, 10, 27, 23), 'deleted_at': None}, {'id': 194, 'account_id': 'hana1234', 'dw_date': datetime.date(2024, 3, 27), 'category': '객실수입', 'client': '호텔스닷컴', 'deposit': 28000000, 'withdrawal': 0, 'description': '객실 매출', 'created_at': datetime.datetime(2024, 4, 15, 10, 27, 23), 'deleted_at': None}, {'id': 195, 'account_id': 'hana1234', 'dw_date': datetime.date(2024, 3, 28), 'category': '객실수입', 'client': '호텔스넷', 'deposit': 28000000, 'withdrawal': 0, 'description': '객실 매출', 'created_at': datetime.datetime(2024, 4, 15, 10, 27, 23), 'deleted_at': None}, {'id': 196, 'account_id': 'hana1234', 'dw_date': datetime.date(2024, 3, 29), 'category': '객실수입', 'client': '호텔스닷컴', 'deposit': 25000000, 'withdrawal': 0, 'description': '객실 매출', 'created_at': datetime.datetime(2024, 4, 15, 10, 27, 23), 'deleted_at': None}, {'id': 197, 'account_id': 'hana1234', 'dw_date': datetime.date(2024, 3, 30), 'category': '객실수입', 'client': '호텔스닷컴', 'deposit': 28000000, 'withdrawal': 0, 'description': '객실 매출', 'created_at': datetime.datetime(2024, 4, 15, 10, 27, 23), 'deleted_at': None}, {'id': 198, 'account_id': 'hana1234', 'dw_date': datetime.date(2024, 3, 31), 'category': '객실수입', 'client': '호텔스닷컴', 'deposit': 35000000, 'withdrawal': 0, 'description': '객실 매출', 'created_at': datetime.datetime(2024, 4, 15, 10, 27, 23), 'deleted_at': None}]\n"
     ]
    }
   ],
   "source": [
    "print(result)"
   ]
  },
  {
   "cell_type": "markdown",
   "metadata": {},
   "source": [
    "### 2-2. 데이터를 엑셀파일에 쓰기(openpyxl)\n",
    "#### 2-2-1. ChatGPT 질의"
   ]
  },
  {
   "cell_type": "markdown",
   "metadata": {},
   "source": [
    "![openpyxl_데이터쓰기](./image/openpyxl_데이터쓰기1.png)"
   ]
  },
  {
   "cell_type": "markdown",
   "metadata": {},
   "source": [
    "#### 2-2-2. 엑셀파일로 출력하기"
   ]
  },
  {
   "cell_type": "code",
   "execution_count": 11,
   "metadata": {},
   "outputs": [],
   "source": [
    "from openpyxl import Workbook\n",
    "\n",
    "# 새로운 워크북(엑셀 파일) 생성\n",
    "workbook = Workbook()\n",
    "\n",
    "# 활성 시트(첫번째 시트) 선택\n",
    "sheet = workbook.active\n",
    "\n",
    "# 시트 이름 변경\n",
    "sheet.title = \"DataSheet\"\n",
    "\n",
    "# 데이터의 키를 엑셀 파일의 첫번째 행에 헤더로 삽입\n",
    "headers = result[0].keys()\n",
    "sheet.append(list(headers))\n",
    "\n",
    "# 각 딕셔너리의 값을 차례로 행에 삽입\n",
    "for item in result:\n",
    "    sheet.append(list(item.values()))\n",
    "\n",
    "# 엑셀 파일 저장\n",
    "workbook.save('data_select1.xlsx')"
   ]
  },
  {
   "cell_type": "markdown",
   "metadata": {},
   "source": [
    "### 2-3. 데이터를 엑셀파일에 쓰기(pandas.DataFrame)\n",
    "#### 2-3-1. ChatGPT 질의"
   ]
  },
  {
   "cell_type": "markdown",
   "metadata": {},
   "source": [
    "![openpyxl_데이터쓰기](./image/openpyxl_데이터쓰기2.png)"
   ]
  },
  {
   "cell_type": "markdown",
   "metadata": {},
   "source": [
    "#### 2-3-2. 데이터 SELECT한 후 엑셀파일로 출력하기"
   ]
  },
  {
   "cell_type": "code",
   "execution_count": 6,
   "metadata": {},
   "outputs": [],
   "source": [
    "import pandas as pd\n",
    "from connector import Connector\n",
    "\n",
    "with Connector() as conn:\n",
    "    query = \"\"\"\n",
    "        SELECT * FROM cashflow_tbl\n",
    "        WHERE dw_date BETWEEN '2024-02-01' AND '2024-02-29';\n",
    "    \"\"\"\n",
    "    conn.cursor.execute(query)\n",
    "    result_df = conn.cursor.fetchall()\n",
    "    result_df = pd.DataFrame(result)"
   ]
  },
  {
   "cell_type": "code",
   "execution_count": 8,
   "metadata": {},
   "outputs": [],
   "source": [
    "result_df.to_excel(\"data_select2.xlsx\", index=False)"
   ]
  }
 ],
 "metadata": {
  "kernelspec": {
   "display_name": "Python 3",
   "language": "python",
   "name": "python3"
  },
  "language_info": {
   "codemirror_mode": {
    "name": "ipython",
    "version": 3
   },
   "file_extension": ".py",
   "mimetype": "text/x-python",
   "name": "python",
   "nbconvert_exporter": "python",
   "pygments_lexer": "ipython3",
   "version": "3.11.7"
  }
 },
 "nbformat": 4,
 "nbformat_minor": 2
}
