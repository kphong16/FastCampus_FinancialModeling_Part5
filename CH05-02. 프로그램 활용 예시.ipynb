{
 "cells": [
  {
   "cell_type": "markdown",
   "metadata": {},
   "source": [
    "# [ 5-2. 프로그램 활용 예시 ]"
   ]
  },
  {
   "cell_type": "markdown",
   "metadata": {},
   "source": [
    "## 1. 데이터 INSERT 하기\n",
    "### 1-1. INSERT 엑셀 파일에 데이터 입력\n",
    "* \"INSERT_FCHotel_cashflow.xlsx\" 파일에 INSERT 하고자 하는 데이터 입력\n",
    "![main함수활용](./image/main함수_활용1.png)"
   ]
  },
  {
   "cell_type": "markdown",
   "metadata": {},
   "source": [
    "### 1-2. main 함수 실행 및 INSERT 함수 실행"
   ]
  },
  {
   "cell_type": "code",
   "execution_count": 2,
   "metadata": {},
   "outputs": [
    {
     "name": "stdout",
     "output_type": "stream",
     "text": [
      "Insert or select cashflow data.\n",
      "Choose one.\n",
      "1. Insert cashflow data(INSERT_FCHotel_cashflow.xlsx)\n",
      "2. Select data\n"
     ]
    }
   ],
   "source": [
    "%run main.py"
   ]
  },
  {
   "cell_type": "markdown",
   "metadata": {},
   "source": [
    "```\n",
    ">>> 1\n",
    "```"
   ]
  },
  {
   "cell_type": "markdown",
   "metadata": {},
   "source": [
    "## 2. 데이터 SELECT 하기\n",
    "### 2-1. SELECT 쿼리문 작성\n",
    "> JOIN한 데이터에서 필요한 컬럼 추출하는 쿼리문\n",
    "```\n",
    "SELECT \t\n",
    "    a.account_id, a.bank_name, a.account_number, a.account_alias, \n",
    "    c.dw_date, c.category, c.client, c.deposit, c.withdrawal, \n",
    "    c.description\n",
    "FROM accounts_info a\t\n",
    "JOIN cashflow_tbl c ON a.account_id = c.account_id;\t\n",
    "```"
   ]
  },
  {
   "cell_type": "markdown",
   "metadata": {},
   "source": [
    "### 2-2. main함수 실행 및 SELECT 함수 실행"
   ]
  },
  {
   "cell_type": "code",
   "execution_count": 3,
   "metadata": {},
   "outputs": [
    {
     "name": "stdout",
     "output_type": "stream",
     "text": [
      "Insert or select cashflow data.\n",
      "Choose one.\n",
      "1. Insert cashflow data(INSERT_FCHotel_cashflow.xlsx)\n",
      "2. Select data\n"
     ]
    }
   ],
   "source": [
    "%run main.py"
   ]
  },
  {
   "cell_type": "markdown",
   "metadata": {},
   "source": [
    "```\n",
    ">>> 2\n",
    "\n",
    "query > SELECT \t\n",
    "    a.account_id, a.bank_name, a.account_number, a.account_alias, \n",
    "    c.dw_date, c.category, c.client, c.deposit, c.withdrawal, \n",
    "    c.description\n",
    "FROM accounts_info a\t\n",
    "JOIN cashflow_tbl c ON a.account_id = c.account_id;\t\n",
    "\n",
    "xlfilename > data_select_joined1.xlsx\n",
    "```"
   ]
  },
  {
   "cell_type": "markdown",
   "metadata": {},
   "source": []
  }
 ],
 "metadata": {
  "kernelspec": {
   "display_name": "fastcampus",
   "language": "python",
   "name": "python3"
  },
  "language_info": {
   "codemirror_mode": {
    "name": "ipython",
    "version": 3
   },
   "file_extension": ".py",
   "mimetype": "text/x-python",
   "name": "python",
   "nbconvert_exporter": "python",
   "pygments_lexer": "ipython3",
   "version": "3.11.7"
  }
 },
 "nbformat": 4,
 "nbformat_minor": 2
}
